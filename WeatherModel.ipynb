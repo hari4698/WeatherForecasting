{
  "nbformat": 4,
  "nbformat_minor": 0,
  "metadata": {
    "colab": {
      "name": "WeatherModel.ipynb",
      "version": "0.3.2",
      "provenance": [],
      "collapsed_sections": [],
      "include_colab_link": true
    },
    "kernelspec": {
      "name": "python3",
      "display_name": "Python 3"
    }
  },
  "cells": [
    {
      "cell_type": "markdown",
      "metadata": {
        "id": "view-in-github",
        "colab_type": "text"
      },
      "source": [
        "<a href=\"https://colab.research.google.com/github/hari4698/WeatherForecasting/blob/master/WeatherModel.ipynb\" target=\"_parent\"><img src=\"https://colab.research.google.com/assets/colab-badge.svg\" alt=\"Open In Colab\"/></a>"
      ]
    },
    {
      "metadata": {
        "id": "sr-odEnvS3H1",
        "colab_type": "code",
        "colab": {}
      },
      "cell_type": "code",
      "source": [
        "import pandas as pd\n",
        "\n",
        "url = 'https://raw.githubusercontent.com/hari4698/WeatherForecasting/master/2016-18%20hourly.csv'"
      ],
      "execution_count": 0,
      "outputs": []
    },
    {
      "metadata": {
        "colab_type": "code",
        "id": "VcBh3GPokuXs",
        "colab": {}
      },
      "cell_type": "code",
      "source": [
        "features = [\"time\", \"temperature\", \"humidity\", \"dewPoint\", \"pressure\", \"windSpeed\"]\n",
        "df1 = pd.read_csv(url)\n",
        "records = df1.values.tolist()\n",
        "\n",
        "df = pd.DataFrame(records, columns=features).set_index('time') "
      ],
      "execution_count": 0,
      "outputs": []
    },
    {
      "metadata": {
        "id": "qxO6Jx19kycC",
        "colab_type": "code",
        "colab": {}
      },
      "cell_type": "code",
      "source": [
        "df.info"
      ],
      "execution_count": 0,
      "outputs": []
    }
  ]
}